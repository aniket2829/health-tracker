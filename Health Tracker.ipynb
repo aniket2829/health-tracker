{
  "nbformat": 4,
  "nbformat_minor": 0,
  "metadata": {
    "colab": {
      "provenance": []
    },
    "kernelspec": {
      "name": "python3",
      "display_name": "Python 3"
    },
    "language_info": {
      "name": "python"
    }
  },
  "cells": [
    {
      "cell_type": "code",
      "execution_count": 1,
      "metadata": {
        "colab": {
          "base_uri": "https://localhost:8080/"
        },
        "id": "FtZRw1C5d9bj",
        "outputId": "1c833525-4f47-4c30-ce35-eba3fff2e489"
      },
      "outputs": [
        {
          "output_type": "stream",
          "name": "stdout",
          "text": [
            "Requirement already satisfied: rich in /usr/local/lib/python3.10/dist-packages (13.4.2)\n",
            "Requirement already satisfied: markdown-it-py>=2.2.0 in /usr/local/lib/python3.10/dist-packages (from rich) (3.0.0)\n",
            "Requirement already satisfied: pygments<3.0.0,>=2.13.0 in /usr/local/lib/python3.10/dist-packages (from rich) (2.14.0)\n",
            "Requirement already satisfied: mdurl~=0.1 in /usr/local/lib/python3.10/dist-packages (from markdown-it-py>=2.2.0->rich) (0.1.2)\n"
          ]
        }
      ],
      "source": [
        "!pip install rich\n"
      ]
    },
    {
      "cell_type": "code",
      "source": [
        "from rich.console import Console\n",
        "from rich.table import Table\n",
        "from rich.progress import Progress\n",
        "\n",
        "import json\n",
        "\n",
        "console = Console()\n",
        "\n",
        "# define a function to add new data to the file\n",
        "def add_data(file_path, data):\n",
        "    with open(file_path, 'a') as f:\n",
        "        f.write(json.dumps(data) + '\\n')\n",
        "\n",
        "# define a function to view the data from the file\n",
        "def view_data(file_path):\n",
        "    with open(file_path, 'r') as f:\n",
        "        data_list = [json.loads(line.strip()) for line in f]\n",
        "\n",
        "    if data_list:\n",
        "        table = Table(title=\"Data List\")\n",
        "\n",
        "        for data in data_list:\n",
        "            if data['type'] == \"Exercise\":\n",
        "                table.add_column(\"Type\")\n",
        "                table.add_column(\"Name\")\n",
        "                table.add_column(\"Duration\")\n",
        "                table.add_column(\"Date\")\n",
        "                table.add_row(data['type'], data['name'], data['duration'], data['date'])\n",
        "            else:\n",
        "                table.add_column(\"Type\")\n",
        "                table.add_column(\"Name\")\n",
        "                table.add_column(\"Calories\")\n",
        "                table.add_column(\"Date\")\n",
        "                table.add_row(data['type'], data['food'], data['calories'], data['date'])\n",
        "\n",
        "        console.print(table)\n",
        "    else:\n",
        "        console.print(\"No data found!\")\n",
        "\n",
        "# define the main function\n",
        "def main():\n",
        "    console.print('Welcome to the Health Management System!')\n",
        "    console.print('What would you like to do?')\n",
        "    console.print('1. Log data')\n",
        "    console.print('2. View data')\n",
        "\n",
        "    option = input('Enter your choice (1 or 2): ')\n",
        "\n",
        "    if option == '1':\n",
        "        console.print('What kind of data would you like to log?')\n",
        "        console.print('1. Exercise data')\n",
        "        console.print('2. Diet data')\n",
        "\n",
        "        log_option = input('Enter your choice (1 or 2): ')\n",
        "\n",
        "        if log_option == '1':\n",
        "            exercise_data = {\n",
        "                'type': 'Exercise',\n",
        "                'name': input('Enter the exercise name: '),\n",
        "                'duration': input('Enter the duration (in minutes): '),\n",
        "                'date': input('Enter the date (YYYY-MM-DD): ')\n",
        "            }\n",
        "            add_data('exercise_log.json', exercise_data)\n",
        "            console.print('Exercise data logged successfully!')\n",
        "        elif log_option == '2':\n",
        "            diet_data = {\n",
        "                'type': 'Diet',\n",
        "                'food': input('Enter the food name: '),\n",
        "                'calories': input('Enter the calories: '),\n",
        "                'date': input('Enter the date (YYYY-MM-DD): ')\n",
        "            }\n",
        "            add_data('diet_log.json', diet_data)\n",
        "            console.print('Diet data logged successfully!')\n",
        "        else:\n",
        "            console.print('Invalid input!')\n",
        "\n",
        "    elif option == '2':\n",
        "        console.print('What kind of data would you like to view?')\n",
        "        console.print('1. Exercise data')\n",
        "        console.print('2. Diet data')\n",
        "\n",
        "        view_option = input('Enter your choice (1 or 2): ')\n",
        "\n",
        "        if view_option == '1':\n",
        "            view_data('exercise_log.json')\n",
        "        elif view_option == '2':\n",
        "            view_data('diet_log.json')\n",
        "        else:\n",
        "            console.print('Invalid input!')\n",
        "\n",
        "    else:\n",
        "        console.print('Invalid input!')\n",
        "\n",
        "if __name__ == '__main__':\n",
        "\n",
        "    main()"
      ],
      "metadata": {
        "colab": {
          "base_uri": "https://localhost:8080/",
          "height": 260
        },
        "id": "PjxRfaFRe4tV",
        "outputId": "73dc5f3d-6ea6-4bbc-f2f9-8d3391baba1e"
      },
      "execution_count": 4,
      "outputs": [
        {
          "output_type": "display_data",
          "data": {
            "text/plain": [
              "Welcome to the Health Management System!\n"
            ],
            "text/html": [
              "<pre style=\"white-space:pre;overflow-x:auto;line-height:normal;font-family:Menlo,'DejaVu Sans Mono',consolas,'Courier New',monospace\">Welcome to the Health Management System!\n",
              "</pre>\n"
            ]
          },
          "metadata": {}
        },
        {
          "output_type": "display_data",
          "data": {
            "text/plain": [
              "What would you like to do?\n"
            ],
            "text/html": [
              "<pre style=\"white-space:pre;overflow-x:auto;line-height:normal;font-family:Menlo,'DejaVu Sans Mono',consolas,'Courier New',monospace\">What would you like to do?\n",
              "</pre>\n"
            ]
          },
          "metadata": {}
        },
        {
          "output_type": "display_data",
          "data": {
            "text/plain": [
              "\u001b[1;36m1\u001b[0m. Log data\n"
            ],
            "text/html": [
              "<pre style=\"white-space:pre;overflow-x:auto;line-height:normal;font-family:Menlo,'DejaVu Sans Mono',consolas,'Courier New',monospace\"><span style=\"color: #008080; text-decoration-color: #008080; font-weight: bold\">1</span>. Log data\n",
              "</pre>\n"
            ]
          },
          "metadata": {}
        },
        {
          "output_type": "display_data",
          "data": {
            "text/plain": [
              "\u001b[1;36m2\u001b[0m. View data\n"
            ],
            "text/html": [
              "<pre style=\"white-space:pre;overflow-x:auto;line-height:normal;font-family:Menlo,'DejaVu Sans Mono',consolas,'Courier New',monospace\"><span style=\"color: #008080; text-decoration-color: #008080; font-weight: bold\">2</span>. View data\n",
              "</pre>\n"
            ]
          },
          "metadata": {}
        },
        {
          "name": "stdout",
          "output_type": "stream",
          "text": [
            "Enter your choice (1 or 2): 2\n"
          ]
        },
        {
          "output_type": "display_data",
          "data": {
            "text/plain": [
              "What kind of data would you like to view?\n"
            ],
            "text/html": [
              "<pre style=\"white-space:pre;overflow-x:auto;line-height:normal;font-family:Menlo,'DejaVu Sans Mono',consolas,'Courier New',monospace\">What kind of data would you like to view?\n",
              "</pre>\n"
            ]
          },
          "metadata": {}
        },
        {
          "output_type": "display_data",
          "data": {
            "text/plain": [
              "\u001b[1;36m1\u001b[0m. Exercise data\n"
            ],
            "text/html": [
              "<pre style=\"white-space:pre;overflow-x:auto;line-height:normal;font-family:Menlo,'DejaVu Sans Mono',consolas,'Courier New',monospace\"><span style=\"color: #008080; text-decoration-color: #008080; font-weight: bold\">1</span>. Exercise data\n",
              "</pre>\n"
            ]
          },
          "metadata": {}
        },
        {
          "output_type": "display_data",
          "data": {
            "text/plain": [
              "\u001b[1;36m2\u001b[0m. Diet data\n"
            ],
            "text/html": [
              "<pre style=\"white-space:pre;overflow-x:auto;line-height:normal;font-family:Menlo,'DejaVu Sans Mono',consolas,'Courier New',monospace\"><span style=\"color: #008080; text-decoration-color: #008080; font-weight: bold\">2</span>. Diet data\n",
              "</pre>\n"
            ]
          },
          "metadata": {}
        },
        {
          "name": "stdout",
          "output_type": "stream",
          "text": [
            "Enter your choice (1 or 2): 1\n"
          ]
        },
        {
          "output_type": "display_data",
          "data": {
            "text/plain": [
              "\u001b[3m                     Data List                      \u001b[0m\n",
              "┏━━━━━━━━━━┳━━━━━━━━━━━━━━━┳━━━━━━━━━━┳━━━━━━━━━━━━┓\n",
              "┃\u001b[1m \u001b[0m\u001b[1mType    \u001b[0m\u001b[1m \u001b[0m┃\u001b[1m \u001b[0m\u001b[1mName         \u001b[0m\u001b[1m \u001b[0m┃\u001b[1m \u001b[0m\u001b[1mDuration\u001b[0m\u001b[1m \u001b[0m┃\u001b[1m \u001b[0m\u001b[1mDate      \u001b[0m\u001b[1m \u001b[0m┃\n",
              "┡━━━━━━━━━━╇━━━━━━━━━━━━━━━╇━━━━━━━━━━╇━━━━━━━━━━━━┩\n",
              "│ Exercise │ Dumbell Press │ 40       │ 2023-07-29 │\n",
              "└──────────┴───────────────┴──────────┴────────────┘\n"
            ],
            "text/html": [
              "<pre style=\"white-space:pre;overflow-x:auto;line-height:normal;font-family:Menlo,'DejaVu Sans Mono',consolas,'Courier New',monospace\"><span style=\"font-style: italic\">                     Data List                      </span>\n",
              "┏━━━━━━━━━━┳━━━━━━━━━━━━━━━┳━━━━━━━━━━┳━━━━━━━━━━━━┓\n",
              "┃<span style=\"font-weight: bold\"> Type     </span>┃<span style=\"font-weight: bold\"> Name          </span>┃<span style=\"font-weight: bold\"> Duration </span>┃<span style=\"font-weight: bold\"> Date       </span>┃\n",
              "┡━━━━━━━━━━╇━━━━━━━━━━━━━━━╇━━━━━━━━━━╇━━━━━━━━━━━━┩\n",
              "│ Exercise │ Dumbell Press │ 40       │ 2023-07-29 │\n",
              "└──────────┴───────────────┴──────────┴────────────┘\n",
              "</pre>\n"
            ]
          },
          "metadata": {}
        }
      ]
    },
    {
      "cell_type": "code",
      "source": [],
      "metadata": {
        "id": "4N6rB-ltfDb3"
      },
      "execution_count": null,
      "outputs": []
    }
  ]
}